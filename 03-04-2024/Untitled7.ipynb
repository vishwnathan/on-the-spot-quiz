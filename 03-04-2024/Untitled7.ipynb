{
  "nbformat": 4,
  "nbformat_minor": 0,
  "metadata": {
    "colab": {
      "provenance": []
    },
    "kernelspec": {
      "name": "python3",
      "display_name": "Python 3"
    },
    "language_info": {
      "name": "python"
    }
  },
  "cells": [
    {
      "cell_type": "code",
      "execution_count": null,
      "metadata": {
        "id": "Jyd-Wqqo1b17"
      },
      "outputs": [],
      "source": [
        "import pandas as pd\n",
        "from sklearn.model_selection import train_test_split\n",
        "from sklearn.preprocessing import LabelEncoder, StandardScaler\n",
        "from sklearn.metrics import accuracy_score\n",
        "from sklearn.tree import DecisionTreeClassifier\n",
        "from sklearn.ensemble import RandomForestClassifier\n",
        "from xgboost import XGBClassifier\n",
        "\n",
        "#Loading the dataset\n",
        "data = pd.read_csv('/content/DSAI-LVA-DATASET for Quiz.csv')\n",
        "\n",
        "label_encoder = LabelEncoder()\n",
        "data['ParentEducation'] = label_encoder.fit_transform(data['ParentEducation'])\n",
        "data['Pass'] = label_encoder.fit_transform(data['Pass'])\n",
        "X = data.drop('Pass', axis=1)\n",
        "y = data['Pass']\n",
        "\n",
        "scaler = StandardScaler()\n",
        "X[['StudyTime', 'PreviousTestScore']] = scaler.fit_transform(X[['StudyTime', 'PreviousTestScore']])\n",
        "\n",
        "#Split the data into training and test sets\n",
        "X_train, X_test, y_train, y_test = train_test_split(X, y, test_size=0.2, random_state=42)\n",
        "\n",
        "#Saving the training and testing data set into separate csv files\n",
        "X_train.to_csv('/content/train_data.csv', index=False)\n",
        "X_test.to_csv('/content/test_data.csv', index=False)\n",
        "\n",
        "def determine_performance(probabilities):\n",
        "    if probabilities[0] >= 0.5:\n",
        "        return 'Fail'\n",
        "    elif probabilities[1] >= 0.5:\n",
        "        return 'Pass with Low Grade'\n",
        "    else:\n",
        "        return 'Pass with High Grade'\n",
        "\n",
        "clf_dt = DecisionTreeClassifier()\n",
        "clf_dt.fit(X_train, y_train)\n",
        "y_pred_prob_dt = clf_dt.predict_proba(X)\n",
        "\n",
        "clf_rf = RandomForestClassifier()\n",
        "clf_rf.fit(X_train, y_train)\n",
        "y_pred_prob_rf = clf_rf.predict_proba(X)\n",
        "\n",
        "clf_xgb = XGBClassifier()\n",
        "clf_xgb.fit(X_train, y_train)\n",
        "y_pred_prob_xgb = clf_xgb.predict_proba(X)\n",
        "\n",
        "performance_categories_dt = [determine_performance(probs) for probs in y_pred_prob_dt]\n",
        "performance_categories_rf = [determine_performance(probs) for probs in y_pred_prob_rf]\n",
        "performance_categories_xgb = [determine_performance(probs) for probs in y_pred_prob_xgb]\n",
        "\n",
        "data['DT_Performance'] = performance_categories_dt\n",
        "data['RF_Performance'] = performance_categories_rf\n",
        "data['XGB_Performance'] = performance_categories_xgb\n",
        "\n",
        "data.to_csv('/content/DSAI-LVA-DATASET with Performance.csv', index=False)"
      ]
    }
  ]
}